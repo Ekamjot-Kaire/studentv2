{
 "cells": [
  {
   "attachments": {},
   "cell_type": "markdown",
   "metadata": {},
   "source": [
    "---\n",
    "toc: true\n",
    "layout: post\n",
    "title: FRQ Crossover \n",
    "courses: { csa: {week: 3, categories: [3.A]} }\n",
    "type: hacks\n",
    "---"
   ]
  },
  {
   "attachments": {},
   "cell_type": "markdown",
   "metadata": {},
   "source": [
    "<h2> TOPIC: Array/ArrayLists </h2>\n",
    "\n",
    "![](https://github.com/lunaiwa/student-template/assets/111466888/86ea2f9f-9fde-4ec0-8c4a-81f12ee66ae4)"
   ]
  },
  {
   "attachments": {},
   "cell_type": "markdown",
   "metadata": {},
   "source": [
    "PART A: Write the ````cleanData method````, which modifies the ````temperature```` instance variable  by removing all values that are less than the ````lower```` parameter and all values that are greater than the ````upper```` parameter. The order of the remaining values in ````temperature```` must be maintained\n"
   ]
  },
  {
   "cell_type": "code",
   "execution_count": null,
   "metadata": {},
   "outputs": [],
   "source": [
    "public class WeatherData\n",
    "{\n",
    "\n",
    "    private ArrayList<Double> temperatures; //temperature: instance variable containing data type double\n",
    "\n",
    "    public void cleanData(double lower, double upper)\n",
    "    {\n",
    "        for (int i = temperatures.size() - 1; i >= 0; i --) // for loop taking the size of the array: temperatures, starting at the end of the list, going backwards\n",
    "            if (temperatures.get(i) > upper || temperatures.get(i) < lower) //condition; getting the temperatures at index i (already a double), and seeing whether it is outside of the bounds given by the problem \n",
    "            { \n",
    "                temperatures.remove; //removing from ArrayList\n",
    "            }\n",
    "    }\n",
    "\n",
    "\n",
    "}"
   ]
  },
  {
   "attachments": {},
   "cell_type": "markdown",
   "metadata": {},
   "source": [
    "EX: upper = 120, lower = 85\n",
    "\n",
    "![](https://github.com/Ekamjot-Kaire/student/assets/111466888/9b057d70-dab8-4c80-8d76-512584032719)"
   ]
  },
  {
   "attachments": {},
   "cell_type": "markdown",
   "metadata": {},
   "source": [
    "SCORING CRITERIA: \n",
    "\n",
    "1) Traverses ````temperatures````:\n",
    "* Array can be iterated through forwards as well \n",
    "* point is not earned if every index in list is not accessed \n",
    "\n",
    "2) Condition: \n",
    "* must have correct conditionals syntax \n",
    "\n",
    "3) Calling ````remove````: \n",
    "* indexes must be removed from ArrayList\n",
    "\n",
    "4) Cannot add extra variables, or create new ArrayList not previously defined "
   ]
  },
  {
   "attachments": {},
   "cell_type": "markdown",
   "metadata": {},
   "source": [
    "<br>\n",
    "\n",
    "PART B: Write the ````longestHeatWave```` method, which returns the length of the longest heat wave found in the ````temperatures```` variable. A heat wave is a sequence of two or more consecutive days with a daily high temperature greater than the parameter ````threshold````. The ````temperatures```` instance variable is guaranteed to contain at least one heat wave based on the ````threshold```` parameter. "
   ]
  },
  {
   "cell_type": "code",
   "execution_count": null,
   "metadata": {},
   "outputs": [],
   "source": [
    "public int longestHeatWave (double threshold)\n",
    "{\n",
    "    int current = 0; //initializing current longest Heat Wave\n",
    "    int longest = 2; //not set to 0, since we are guaranteed to have a heatwave, and minimum is 2\n",
    "\n",
    "    for (int i = 0, i < temperatures.size(); i ++) // this time iterating forwards\n",
    "    {\n",
    "        double temp = temperatures.get(i);\n",
    "        if (temp > threshold){\n",
    "            current ++; //adding a value to the current variable, indicating the heatwave has increased by one day\n",
    "            if (current > longest){\n",
    "                longest = current; //if current heatwave ever passes the longest heatwave, the longest variable is updated\n",
    "            }\n",
    "        }else{\n",
    "            current = 0; //seting current back to 0 if heat wave has ended\n",
    "        }\n",
    "    }\n",
    "    return longest;\n",
    "}"
   ]
  },
  {
   "attachments": {},
   "cell_type": "markdown",
   "metadata": {},
   "source": [
    "EX: threshold is larger than 100\n",
    "\n",
    "![](https://github.com/Ekamjot-Kaire/student/assets/111466888/adeae4e6-bded-429a-935c-708d1fdbbd0d)"
   ]
  },
  {
   "attachments": {},
   "cell_type": "markdown",
   "metadata": {},
   "source": [
    "SCORING CRITERIA: \n",
    "\n",
    "1) Traverses ````temperatures````:\n",
    "* point is not earned if every index in list is not accessed \n",
    "\n",
    "2) Condition: \n",
    "* must compare temperature to threshold (incorrect comparisons don't earn points)\n",
    "\n",
    "3) Initializing + incrementing the length of one heat wave: \n",
    "* the length MUST be set back to 0 once the heat wave ends\n",
    "\n",
    "4) Identifies correct longest heat wave "
   ]
  },
  {
   "cell_type": "code",
   "execution_count": 1,
   "metadata": {},
   "outputs": [],
   "source": [
    "import java.util.ArrayList;\n",
    "import java.util.Scanner;\n",
    "\n",
    "public class WeatherData {\n",
    "    private ArrayList<Double> temperatures;\n",
    "\n",
    "    public WeatherData(ArrayList<Double> temperatures) {\n",
    "        this.temperatures = temperatures;\n",
    "    }\n",
    "\n",
    "    public void cleanData(double lower, double upper) {\n",
    "        for (int i = temperatures.size() - 1; i >= 0; i--) {\n",
    "            double temp = temperatures.get(i);\n",
    "            if (temp < lower || temp > upper) {\n",
    "                temperatures.remove(i);\n",
    "            }\n",
    "        }\n",
    "    }\n",
    "\n",
    "    public int longestHeatWave(double threshold) {\n",
    "        int current = 0;\n",
    "        int longest = 2;\n",
    "\n",
    "        for (int i = 0; i < temperatures.size(); i++) {\n",
    "            double temp = temperatures.get(i);\n",
    "            if (temp > threshold) {\n",
    "                current++;\n",
    "                if (current > longest) {\n",
    "                    longest = current;\n",
    "                }\n",
    "            } else {\n",
    "                current = 0;\n",
    "            }\n",
    "        }\n",
    "        return longest;\n",
    "    }\n",
    "\n",
    "    public static void main(String[] args) {\n",
    "        Scanner scanner = new Scanner(System.in);\n",
    "        ArrayList<Double> temperatures = new ArrayList<>();\n",
    "\n",
    "        // Taking input for 10 temperatures\n",
    "        for (int i = 0; i < 10; i++) {\n",
    "            System.out.print(\"Enter temperature \" + (i + 1) + \": \");\n",
    "            double temp = scanner.nextDouble();\n",
    "            temperatures.add(temp);\n",
    "        }\n",
    "\n",
    "        WeatherData weatherData = new WeatherData(temperatures);\n",
    "\n",
    "        System.out.println(\"Which method would you like to perform?\");\n",
    "        System.out.println(\"1. Clean Data\");\n",
    "        System.out.println(\"2. Longest Heat Wave\");\n",
    "        int choice = scanner.nextInt();\n",
    "\n",
    "        if (choice == 1) {\n",
    "            System.out.print(\"Enter lower bound: \");\n",
    "            double lower = scanner.nextDouble();\n",
    "            System.out.print(\"Enter upper bound: \");\n",
    "            double upper = scanner.nextDouble();\n",
    "            weatherData.cleanData(lower, upper);\n",
    "            System.out.println(\"Cleaned data: \" + weatherData.temperatures);\n",
    "        } else if (choice == 2) {\n",
    "            System.out.print(\"Enter threshold: \");\n",
    "            double threshold = scanner.nextDouble();\n",
    "            int longestHeatWave = weatherData.longestHeatWave(threshold);\n",
    "            System.out.println(\"Longest heat wave: \" + longestHeatWave);\n",
    "        } else {\n",
    "            System.out.println(\"Invalid choice.\");\n",
    "        }\n",
    "\n",
    "        scanner.close();\n",
    "    }\n",
    "}\n"
   ]
  }
 ],
 "metadata": {
  "kernelspec": {
   "display_name": "Java",
   "language": "java",
   "name": "java"
  },
  "language_info": {
   "codemirror_mode": "java",
   "file_extension": ".jshell",
   "mimetype": "text/x-java-source",
   "name": "java",
   "pygments_lexer": "java",
   "version": "20.0.1"
  }
 },
 "nbformat": 4,
 "nbformat_minor": 2
}
