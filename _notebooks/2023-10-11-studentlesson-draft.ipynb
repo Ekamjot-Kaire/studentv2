{
 "cells": [
  {
   "attachments": {},
   "cell_type": "markdown",
   "metadata": {},
   "source": [
    "---\n",
    "layout: post\n",
    "title: U4 Lesson Draft\n",
    "description: 4.3\n",
    "comments: true\n",
    "courses: { csa: {week: 1} }\n",
    "type: lessons\n",
    "---"
   ]
  },
  {
   "attachments": {},
   "cell_type": "markdown",
   "metadata": {},
   "source": [
    "LEARNING OBJECTIVES: \n",
    "For algorithms in the context of a particular specification that involves ```String``` objects: \n",
    "- identify standard algorithms \n",
    "- modify standard algorithms \n",
    "- develop an algorithm\n",
    "\n"
   ]
  },
  {
   "attachments": {},
   "cell_type": "markdown",
   "metadata": {},
   "source": [
    "\n",
    "**Java has many methods that are helpful when working with strings:**\n",
    "\n",
    "* ```String .substring``` --> retrieves portion of a string\n",
    "* ```String .equals``` --> compares two strings\n",
    "* ```String .length``` --> returns length of a string\n",
    "* ```for Loop``` --> iterating through characters of a string\n",
    "\n",
    "<br>\n",
    "<br>\n",
    "\n",
    "<h3> Finding a substring within a string </h3>\n",
    "\n",
    "We can use the \"window\" method:\n",
    "\n",
    "A \"window\" is created the same length as the substring. We then iterate through the main string in sections and compare to the substring \n",
    "\n",
    "For example: \n",
    "\n",
    "<h3> I T E R A T E </h3>with substring \"ERA\"\n",
    "\n",
    "<br>\n",
    "<br>\n",
    "<br>\n",
    "\n"
   ]
  },
  {
   "cell_type": "code",
   "execution_count": null,
   "metadata": {},
   "outputs": [],
   "source": [
    "public class StringFinder {\n",
    "public static void main(String[] args) {\n",
    "    String word = \"iterate\";\n",
    "    String sub = \"era\";\n",
    "    boolean found = false; // will be set to true once substring is found \n",
    "\n",
    "    for (int i = 0; i < word.length(); i++) { //iterating forwards: starting at first index (0) and going to the length of the word.. let's try word.length\n",
    "        String portion = word.substring(i, i + sub.length());\n",
    "        if (portion.equals(sub)) // make sure you use .equals!!\n",
    "            found = true;\n",
    "    }\n",
    "\n",
    "    if (found)\n",
    "        System.out.println(\"substring is found within string!\");\n",
    "    else\n",
    "        System.out.println(\"substring is NOT within string\");\n",
    "}\n",
    "\n",
    "}\n",
    "\n",
    "StringFinder.main(null);"
   ]
  },
  {
   "attachments": {},
   "cell_type": "markdown",
   "metadata": {},
   "source": [
    "<h4> POPCORN HACK: Run the code.. what happened? How can we fix it?</h4>\n",
    "\n",
    "Tell us below!\n",
    "\n",
    "<br>\n",
    "<br>\n",
    "\n",
    "<h4> Another issue:</h4>\n",
    "\n",
    "<h3> I T E R A T E </h3> \n",
    "What if our substring was the word \"RATE\"? Note that RATE is at the end of the whole string\n"
   ]
  },
  {
   "cell_type": "code",
   "execution_count": 9,
   "metadata": {},
   "outputs": [
    {
     "name": "stdout",
     "output_type": "stream",
     "text": [
      "substring is NOT within string\n"
     ]
    }
   ],
   "source": [
    "public class StringFinder {\n",
    "    public static void main(String[] args) {\n",
    "        String word = \"iterate\";\n",
    "        String sub = \"rate\";\n",
    "        boolean found = false;  \n",
    "    \n",
    "        for (int i = 0; i < word.length() - sub.length(); i++) { //make sure the comparison is <=\n",
    "            String portion = word.substring(i, i + sub.length());\n",
    "            if (portion.equals(sub)) \n",
    "                found = true;\n",
    "        }\n",
    "    \n",
    "        if (found)\n",
    "            System.out.println(\"substring is found within string!\");\n",
    "        else\n",
    "            System.out.println(\"substring is NOT within string\");\n",
    "    }\n",
    "    \n",
    "    }\n",
    "    \n",
    "    StringFinder.main(null);"
   ]
  },
  {
   "attachments": {},
   "cell_type": "markdown",
   "metadata": {},
   "source": [
    "<h3> HACKS </h3>\n",
    "\n",
    "**Create a algorithm similar to the one above. Except this time, use iteration to count the number of vowels within the main string.**\n",
    "\n",
    "HINT: Use the boolean expressions we have learned in previous lessons. Which would you use when comparing your \"window\" with multiple options of substrings?"
   ]
  },
  {
   "cell_type": "code",
   "execution_count": 8,
   "metadata": {},
   "outputs": [
    {
     "name": "stdout",
     "output_type": "stream",
     "text": [
      "3\n"
     ]
    }
   ],
   "source": [
    "public class VowelFinder {\n",
    "    public static void main(String[] args) {\n",
    "        String word = \"sunflower\";\n",
    "        int counter = 0;  \n",
    "    \n",
    "        for (int i = 0; i < word.length(); i++) { \n",
    "            String portion = word.substring(i, i + 1);\n",
    "            if (portion.equals(\"a\") || portion.equals(\"e\") || portion.equals(\"i\") || portion.equals(\"o\") || portion.equals(\"u\")) \n",
    "                counter++;\n",
    "        }\n",
    "\n",
    "        System.out.println(counter);\n",
    "    }\n",
    "    \n",
    "    }\n",
    "    \n",
    "VowelFinder.main(null);"
   ]
  },
  {
   "attachments": {},
   "cell_type": "markdown",
   "metadata": {},
   "source": [
    "<h1> Lesson 2 Draft: </h1>"
   ]
  },
  {
   "attachments": {},
   "cell_type": "markdown",
   "metadata": {},
   "source": [
    "## 5.3 - Documentation with Comments\n",
    "\n",
    "REMEMBER: comments are ignored by the compiler and anything written in them won't execute \n",
    "\n",
    "- they're used for **people** to make code more readable.. allows them to understand what's happening without having to go further into the code \n",
    "- improves communication between TEAMS \n",
    "- allows code to be maintained over years\n",
    "- prevents execution when testing alternative code\n",
    "\n",
    "**You are NOT required to write comments of AP Exam FRQs, but it is always a good habit**\n",
    "\n",
    "### The types of comments: \n",
    "\n",
    "1) Single line: //\n",
    "2) Multiline: /*  */\n",
    "3) Java Doc: /** \n",
    "        *\n",
    "        *\n",
    "        */\n"
   ]
  },
  {
   "cell_type": "code",
   "execution_count": null,
   "metadata": {},
   "outputs": [],
   "source": [
    "/* \n",
    "    Programmer: \n",
    "    Date: \n",
    "    Purpose \n",
    " */\n",
    "\n",
    "public class Main {\n",
    "    public static void main(String[] args) {\n",
    "        // variables\n",
    "        double length = 2.5;\n",
    "        double width = 4;\n",
    "\n",
    "        //.. and so on\n",
    "    }\n",
    "}\n",
    "\n",
    "\n",
    "/** \n",
    " * javadoc comments:\n",
    " * jkafhjdajhf\n",
    " * \n",
    " * @author\n",
    " * @version \n",
    " */"
   ]
  },
  {
   "attachments": {},
   "cell_type": "markdown",
   "metadata": {},
   "source": [
    "**Javadoc** is a tool that pulls any comments written in this format to make a documentation of the class in the form of a webpage\n",
    "\n",
    "Javadoc also has tags (as shown above)\n",
    "\n",
    "### Preconditions: conditions that must be met before the execution of a code in order for it to run correctly \n",
    "\n",
    "* Will be written in comments for a method for most APCSA questions\n",
    "* it is assumed that these preconditions are true, we do **not** need to check!\n",
    "\n",
    "\n",
    "### Postconditions: conditions that must be met after the conditions has been executed (outcome, state of variables, ect)\n",
    "\n",
    "* Will be written in comments for a method for most APCSA questions\n",
    "* we **do** have to check to make sure these have been met\n",
    "* good way to get a summary of what you need to be doing \n",
    "\n"
   ]
  },
  {
   "cell_type": "code",
   "execution_count": null,
   "metadata": {},
   "outputs": [],
   "source": [
    "// EXAMPLE FROM AP CLASSROOM:\n",
    "\n",
    "public class SecretWord {\n",
    "    private String word;\n",
    "\n",
    "    public SecretWord(String w) {\n",
    "        word = w;\n",
    "    }\n",
    "\n",
    "    /** \n",
    "     * Precondition: parameter num is less than the length of word\n",
    "     * Postcondition: Returns the string of the characters of word from the index hum to the end of the word followed by the characters of word from index 0 to num, not including index num. The state of word has not changed\n",
    "     */\n",
    "\n",
    "    public String newWord(int num)\n",
    "    {\n",
    "        //implementation not shown\n",
    "    }\n",
    "}"
   ]
  },
  {
   "attachments": {},
   "cell_type": "markdown",
   "metadata": {},
   "source": [
    "## 5.4 - Accessor Method \n",
    "\n",
    "OUR GOAL: to define behaviors of an object through non-void methods NOT using parameters written in a class\n",
    "\n",
    "REMEMBER: an accessor method allows other objects to access static variables\n",
    "\n",
    "### What is the purpose of an accessor method?\n",
    "\n",
    "It allows us to safely access variables without other people being able to. Also called get methods or getters. \n",
    "\n",
    "They're necessary whenever another class needs to access a variable outside of that class.\n",
    "\n"
   ]
  },
  {
   "cell_type": "code",
   "execution_count": null,
   "metadata": {},
   "outputs": [],
   "source": [
    "// Example class \n",
    "\n",
    "public class Movie {\n",
    "    // private instance variables\n",
    "    private String name;\n",
    "    private int runtime;\n",
    "\n",
    "    // default constructor \n",
    "    public Movie() {\n",
    "        name = \"\";\n",
    "        runtime = 0;\n",
    "    }\n",
    "\n",
    "    // overloaded constructor:\n",
    "    public Movie(String n, int c) {\n",
    "        name = n;\n",
    "        runtime = c;\n",
    "    }\n",
    "\n",
    "    // added ACCESSOR METHOD for each variable\n",
    "\n",
    "    public String getName() { // header \n",
    "        return name; // returning a COPY of the private instance variables\n",
    "    }\n",
    "\n",
    "    public int getRuntime() {\n",
    "        return runtime\n",
    "    }\n",
    "}"
   ]
  },
  {
   "attachments": {},
   "cell_type": "markdown",
   "metadata": {},
   "source": [
    "An accessor method must be:\n",
    "* ```public``` in order to be accessible \n",
    "* the return type must match the instance variable type \n",
    "* usually name of method is getNameOfVariable\n",
    "* should be NO PARAMETERS\n",
    "\n",
    "### POPCORN HACKS: write an accessor method for each of the instance variables:"
   ]
  },
  {
   "cell_type": "code",
   "execution_count": null,
   "metadata": {},
   "outputs": [],
   "source": [
    "public class Course {\n",
    "    private String name;\n",
    "    private String gradeLevel;\n",
    "    private int period;\n",
    "}"
   ]
  },
  {
   "attachments": {},
   "cell_type": "markdown",
   "metadata": {},
   "source": [
    "### Let's look at another example:"
   ]
  },
  {
   "cell_type": "code",
   "execution_count": null,
   "metadata": {},
   "outputs": [],
   "source": [
    "public class Sport {\n",
    "\n",
    "    private String name;\n",
    "    private int numAthletes;\n",
    "\n",
    "    public Sport(String n, int num) {\n",
    "        name = n;\n",
    "        numAthletes = sum;\n",
    "    }\n",
    "\n",
    "    public String getName() {\n",
    "        return name;\n",
    "    }\n",
    "\n",
    "    public int getNumAthletes () {\n",
    "        return numAthletes;\n",
    "    }\n",
    "}\n",
    "\n"
   ]
  },
  {
   "attachments": {},
   "cell_type": "markdown",
   "metadata": {},
   "source": [
    "Can we print out information about an instance of this object?"
   ]
  },
  {
   "cell_type": "code",
   "execution_count": 1,
   "metadata": {},
   "outputs": [
    {
     "name": "stdout",
     "output_type": "stream",
     "text": [
      "REPL.$JShell$12$Sport@791e2d40\n"
     ]
    }
   ],
   "source": [
    "public class Sport {\n",
    "    private String name;\n",
    "    private int numAthletes;\n",
    "\n",
    "    public Sport(String n, int num) {\n",
    "        name = n;\n",
    "        numAthletes = num;\n",
    "    }\n",
    "\n",
    "    public String getName() {\n",
    "        return name;\n",
    "    }\n",
    "\n",
    "    public int getNumAthletes() {\n",
    "        return numAthletes;\n",
    "    }\n",
    "\n",
    "    public static void main(String[] args) {\n",
    "\n",
    "        Sport volleyball = new Sport(\"volleyball\", 12);\n",
    "\n",
    "        System.out.println(volleyball);\n",
    "    }\n",
    "}\n",
    "\n",
    "Sport.main(null);"
   ]
  },
  {
   "attachments": {},
   "cell_type": "markdown",
   "metadata": {},
   "source": [
    "What output did we get?\n",
    "\n",
    "The code outputs the ```Object``` class in the form of classname@HashCode in hexadecimal \n",
    "<br>\n",
    "<br>\n",
    "<br>\n",
    "Let's try using the ```toString``` method:\n",
    "\n",
    "* returns a string when System.out.println(object) is called\n",
    "* no parameters"
   ]
  },
  {
   "cell_type": "code",
   "execution_count": 3,
   "metadata": {},
   "outputs": [
    {
     "name": "stdout",
     "output_type": "stream",
     "text": [
      "Sport: volleyball\n",
      "Number of Athletes: 12\n"
     ]
    }
   ],
   "source": [
    "public class Sport {\n",
    "    private String name;\n",
    "    private int numAthletes;\n",
    "\n",
    "    public Sport(String n, int num) {\n",
    "        name = n;\n",
    "        numAthletes = num;\n",
    "    }\n",
    "\n",
    "    public String getName() {\n",
    "        return name;\n",
    "    }\n",
    "\n",
    "    public int getNumAthletes() {\n",
    "        return numAthletes;\n",
    "    }\n",
    "\n",
    "    public String toString() { // toString method.. HEADER MUST BE WRITTEN IN THIS WAY\n",
    "        return \"Sport: \" + name +\"\\nNumber of Athletes: \" + numAthletes;\n",
    "    }\n",
    "\n",
    "    public static void main(String[] args) {\n",
    "\n",
    "        Sport volleyball = new Sport(\"volleyball\", 12);\n",
    "\n",
    "        System.out.println(volleyball);\n",
    "    }\n",
    "}\n",
    "\n",
    "Sport.main(null);\n",
    "   \n"
   ]
  }
 ],
 "metadata": {
  "kernelspec": {
   "display_name": "Java",
   "language": "java",
   "name": "java"
  },
  "language_info": {
   "codemirror_mode": "java",
   "file_extension": ".jshell",
   "mimetype": "text/x-java-source",
   "name": "java",
   "pygments_lexer": "java",
   "version": "20.0.1"
  },
  "orig_nbformat": 4
 },
 "nbformat": 4,
 "nbformat_minor": 2
}
