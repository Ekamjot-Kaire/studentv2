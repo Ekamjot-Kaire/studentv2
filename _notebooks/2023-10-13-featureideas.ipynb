{
 "cells": [
  {
   "cell_type": "code",
   "execution_count": 1,
   "metadata": {},
   "outputs": [
    {
     "name": "stdout",
     "output_type": "stream",
     "text": [
      "Current Time: 2023-10-18 10:05:13\n"
     ]
    }
   ],
   "source": [
    "import java.util.*;\n",
    "import java.text.*;\n",
    " \n",
    "public class ScheduleTask {\n",
    " \n",
    "   static DateFormat df = new SimpleDateFormat(\"yyyy-MM-dd HH:mm:ss\");\n",
    " \n",
    "   static Timer timer = new Timer();\n",
    " \n",
    "   private static class MyTimeTask extends TimerTask {\n",
    "      public void run() {\n",
    "         System.out.println(\"Running Task\");\n",
    "         System.out.println(\"Current Time: \" + df.format( new Date()));\n",
    "         timer.cancel();\n",
    "      }\n",
    "   }\n",
    " \n",
    "   public static void main(String[] args) throws ParseException {\n",
    " \n",
    "      System.out.println(\"Current Time: \" + df.format( new Date()));\n",
    " \n",
    "      //date and time of when you want to execute\n",
    "      Date date = df.parse(\"2023-10-18 10:06:00\");\n",
    " \n",
    "      timer.schedule(new MyTimeTask(), date);\n",
    "   }\n",
    "}\n",
    "\n",
    "ScheduleTask.main(null);"
   ]
  }
 ],
 "metadata": {
  "kernelspec": {
   "display_name": "Java",
   "language": "java",
   "name": "java"
  },
  "language_info": {
   "codemirror_mode": "java",
   "file_extension": ".jshell",
   "mimetype": "text/x-java-source",
   "name": "java",
   "pygments_lexer": "java",
   "version": "20.0.1"
  },
  "orig_nbformat": 4
 },
 "nbformat": 4,
 "nbformat_minor": 2
}
