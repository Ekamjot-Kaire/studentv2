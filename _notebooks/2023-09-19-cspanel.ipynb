{
 "cells": [
  {
   "cell_type": "code",
   "execution_count": null,
   "metadata": {},
   "outputs": [],
   "source": [
    "---\n",
    "toc: true\n",
    "comments: true\n",
    "layout: post\n",
    "title: Javascript Sprite Animation (Draft?)\n",
    "description: A guide on simple sprite animations using Javascript, and how to implement them into games\n",
    "courses: { csa: {week: 3, categories: [3.A]} }\n",
    "type: hacks\n",
    "---"
   ]
  }
 ],
 "metadata": {
  "language_info": {
   "name": "python"
  },
  "orig_nbformat": 4
 },
 "nbformat": 4,
 "nbformat_minor": 2
}
