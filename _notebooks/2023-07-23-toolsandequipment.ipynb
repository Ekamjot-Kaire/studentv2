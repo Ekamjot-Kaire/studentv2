{
 "cells": [
  {
   "attachments": {},
   "cell_type": "markdown",
   "metadata": {},
   "source": [
    "---\n",
    "layout: post\n",
    "title: Tools and Equipment Hacks\n",
    "toc: true\n",
    "type: hacks\n",
    "courses: { csa: {week: 0, categories: [3.A]} }\n",
    "---"
   ]
  },
  {
   "attachments": {},
   "cell_type": "markdown",
   "metadata": {},
   "source": [
    "> Blog why you love your tools. Do not fear your tools, love your tools'. Then you become familiar and proficient in using your tools, they become extensions of your abilities and empower you to accomplish Code/Code/Coding tasks more efficiently."
   ]
  },
  {
   "attachments": {},
   "cell_type": "markdown",
   "metadata": {},
   "source": [
    "<strong>Github:</strong>\n",
    "Github allows us to easily track and manage any code we create, change, or delete. In case there is an issue, it is easy to go back and see what might have went wrong. Github also allows everyone to easily share their work, including having multiple people work on a project at once \n",
    "\n",
    "<strong>VSCode:</strong>\n",
    "VSCode is a text editor which makes it many times easier to write code. It has a coloring system which helps in keeping track of syntax, and has built in autocorrection for when you make a mistake with the syntax. Extensions can also be useful at times, and there are so many that it is easy to find something for any situation \n",
    "\n",
    "<strong>Github Pages:</strong>\n",
    "Github pages makes it easy to host a website from the repository. It has plenty of built in features that would otherwise needed to be added in manually . \n",
    "\n",
    "<strong>Jupyter Notebooks:</strong>\n",
    "Notebooks give us an environment to test code in one cell at a time. Multiple languages can also be used within one notebook, and it is easier to test different ideas and edit them quicker. \n",
    "\n",
    "<strong>Slack:</strong>\n",
    "Slack allows for quick communication with teammates, or anyone from our class. There are organized channels that we can go to for specific questions, and it is a lot more organized than a simple group chat. \n",
    "\n",
    "<strong>Docker:</strong>\n",
    "Docker was useful in creating local machines to test our projects in real time. It saves a lot of hassle being able to try everything on a local machine, without having to push changes everytime \n",
    "\n",
    "![image](images/tools.png)"
   ]
  }
 ],
 "metadata": {
  "language_info": {
   "name": "python"
  },
  "orig_nbformat": 4
 },
 "nbformat": 4,
 "nbformat_minor": 2
}
